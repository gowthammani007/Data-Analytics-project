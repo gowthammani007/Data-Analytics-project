{
 "cells": [
  {
   "cell_type": "code",
   "execution_count": 1,
   "id": "75a5eef3",
   "metadata": {},
   "outputs": [],
   "source": [
    "import string\n",
    "from collections import Counter\n",
    "\n",
    "import matplotlib.pyplot as plt\n",
    "from nltk.corpus import stopwords\n",
    "from nltk.sentiment.vader import SentimentIntensityAnalyzer\n",
    "from nltk.stem import WordNetLemmatizer\n",
    "from nltk.tokenize import word_tokenize\n"
   ]
  },
  {
   "cell_type": "code",
   "execution_count": 42,
   "id": "6b618ce4",
   "metadata": {},
   "outputs": [
    {
     "name": "stdout",
     "output_type": "stream",
     "text": [
      "kaartick is from japan innocent bad boy\n",
      "<class 'str'>\n"
     ]
    }
   ],
   "source": [
    "#text = open('read.txt', encoding='utf-8').read()\n",
    "text='kaartick!! is from japan, innocent bad boy'\n",
    "lower_case = text.lower()\n",
    "cleaned_text = lower_case.translate(str.maketrans('', '', string.punctuation))\n",
    "print(cleaned_text)\n",
    "print(type(cleaned_text))\n"
   ]
  },
  {
   "cell_type": "code",
   "execution_count": 38,
   "id": "6162a074",
   "metadata": {},
   "outputs": [],
   "source": [
    "tokenized_words = word_tokenize(cleaned_text, \"english\")"
   ]
  },
  {
   "cell_type": "code",
   "execution_count": 39,
   "id": "08ea2308",
   "metadata": {},
   "outputs": [
    {
     "data": {
      "text/plain": [
       "['kaartick', 'is', 'from', 'japan', 'innocent', 'bad', 'boy']"
      ]
     },
     "execution_count": 39,
     "metadata": {},
     "output_type": "execute_result"
    }
   ],
   "source": [
    "tokenized_words"
   ]
  },
  {
   "cell_type": "code",
   "execution_count": 11,
   "id": "dc3fcc7e",
   "metadata": {},
   "outputs": [
    {
     "data": {
      "text/plain": [
       "['gowtham', 'bad', 'boy', 'bad', 'negative', 'guitar']"
      ]
     },
     "execution_count": 11,
     "metadata": {},
     "output_type": "execute_result"
    }
   ],
   "source": [
    "final_words = []\n",
    "for word in tokenized_words:\n",
    "    if word not in stopwords.words('english'):\n",
    "        final_words.append(word)\n",
    "final_words"
   ]
  },
  {
   "cell_type": "code",
   "execution_count": 12,
   "id": "57e33f59",
   "metadata": {},
   "outputs": [
    {
     "data": {
      "text/plain": [
       "['gowtham', 'bad', 'boy', 'bad', 'negative', 'guitar']"
      ]
     },
     "execution_count": 12,
     "metadata": {},
     "output_type": "execute_result"
    }
   ],
   "source": [
    "lemma_words = []\n",
    "for word in final_words:\n",
    "    word = WordNetLemmatizer().lemmatize(word)\n",
    "    lemma_words.append(word)\n",
    "lemma_words"
   ]
  },
  {
   "cell_type": "code",
   "execution_count": 31,
   "id": "d54246b9",
   "metadata": {},
   "outputs": [
    {
     "name": "stdout",
     "output_type": "stream",
     "text": [
      "Negative Sentiment\n"
     ]
    }
   ],
   "source": [
    "def sentiment_analyse(sentiment_text):\n",
    "    score = SentimentIntensityAnalyzer().polarity_scores(sentiment_text)\n",
    "    if score['neg'] > score['pos']:\n",
    "        print(\"Negative Sentiment\")\n",
    "    elif score['neg'] < score['pos']:\n",
    "        print(\"Positive Sentiment\")\n",
    "    else:\n",
    "        print(\"Neutral Sentiment\")\n",
    "\n",
    "\n",
    "sentiment_analyse(cleaned_text)"
   ]
  },
  {
   "cell_type": "code",
   "execution_count": 36,
   "id": "267dacb0",
   "metadata": {},
   "outputs": [
    {
     "name": "stdout",
     "output_type": "stream",
     "text": [
      "[]\n",
      "Counter()\n"
     ]
    }
   ],
   "source": [
    "emotion_list = []\n",
    "with open('emotions.txt', 'r') as file:\n",
    "    for line in file:\n",
    "        #print(line)\n",
    "        clear_line = line.replace(\"\\n\", '').replace(\",\", '').replace(\"'\", '').strip()\n",
    "        word, emotion = clear_line.split(':')\n",
    "\n",
    "        if word in lemma_words:\n",
    "            emotion_list.append(emotion)\n",
    "\n",
    "print(emotion_list)\n",
    "w = Counter(emotion_list)\n",
    "print(w)\n"
   ]
  },
  {
   "cell_type": "code",
   "execution_count": 37,
   "id": "669e1784",
   "metadata": {},
   "outputs": [
    {
     "data": {
      "image/png": "[encoded data removed]",
      "text/plain": [
       "<Figure size 432x288 with 1 Axes>"
      ]
     },
     "metadata": {
      "needs_background": "light"
     },
     "output_type": "display_data"
    }
   ],
   "source": [
    "fig, ax1 = plt.subplots()\n",
    "ax1.bar(w.keys(), w.values())\n",
    "fig.autofmt_xdate()\n",
    "plt.savefig('graph.png')\n",
    "plt.show()"
   ]
  },
  {
   "cell_type": "code",
   "execution_count": null,
   "id": "1a847f28",
   "metadata": {},
   "outputs": [],
   "source": []
  }
 ],
 "metadata": {
  "kernelspec": {
   "display_name": "Python 3 (ipykernel)",
   "language": "python",
   "name": "python3"
  },
  "language_info": {
   "codemirror_mode": {
    "name": "ipython",
    "version": 3
   },
   "file_extension": ".py",
   "mimetype": "text/x-python",
   "name": "python",
   "nbconvert_exporter": "python",
   "pygments_lexer": "ipython3",
   "version": "3.9.7"
  }
 },
 "nbformat": 4,
 "nbformat_minor": 5
}
